{
 "cells": [
  {
   "cell_type": "code",
   "execution_count": 1,
   "metadata": {},
   "outputs": [
    {
     "name": "stderr",
     "output_type": "stream",
     "text": [
      "C:\\Users\\aakas\\anaconda3\\lib\\site-packages\\tensorflow\\python\\framework\\dtypes.py:516: FutureWarning: Passing (type, 1) or '1type' as a synonym of type is deprecated; in a future version of numpy, it will be understood as (type, (1,)) / '(1,)type'.\n",
      "  _np_qint8 = np.dtype([(\"qint8\", np.int8, 1)])\n",
      "C:\\Users\\aakas\\anaconda3\\lib\\site-packages\\tensorflow\\python\\framework\\dtypes.py:517: FutureWarning: Passing (type, 1) or '1type' as a synonym of type is deprecated; in a future version of numpy, it will be understood as (type, (1,)) / '(1,)type'.\n",
      "  _np_quint8 = np.dtype([(\"quint8\", np.uint8, 1)])\n",
      "C:\\Users\\aakas\\anaconda3\\lib\\site-packages\\tensorflow\\python\\framework\\dtypes.py:518: FutureWarning: Passing (type, 1) or '1type' as a synonym of type is deprecated; in a future version of numpy, it will be understood as (type, (1,)) / '(1,)type'.\n",
      "  _np_qint16 = np.dtype([(\"qint16\", np.int16, 1)])\n",
      "C:\\Users\\aakas\\anaconda3\\lib\\site-packages\\tensorflow\\python\\framework\\dtypes.py:519: FutureWarning: Passing (type, 1) or '1type' as a synonym of type is deprecated; in a future version of numpy, it will be understood as (type, (1,)) / '(1,)type'.\n",
      "  _np_quint16 = np.dtype([(\"quint16\", np.uint16, 1)])\n",
      "C:\\Users\\aakas\\anaconda3\\lib\\site-packages\\tensorflow\\python\\framework\\dtypes.py:520: FutureWarning: Passing (type, 1) or '1type' as a synonym of type is deprecated; in a future version of numpy, it will be understood as (type, (1,)) / '(1,)type'.\n",
      "  _np_qint32 = np.dtype([(\"qint32\", np.int32, 1)])\n",
      "C:\\Users\\aakas\\anaconda3\\lib\\site-packages\\tensorflow\\python\\framework\\dtypes.py:525: FutureWarning: Passing (type, 1) or '1type' as a synonym of type is deprecated; in a future version of numpy, it will be understood as (type, (1,)) / '(1,)type'.\n",
      "  np_resource = np.dtype([(\"resource\", np.ubyte, 1)])\n",
      "C:\\Users\\aakas\\anaconda3\\lib\\site-packages\\tensorboard\\compat\\tensorflow_stub\\dtypes.py:541: FutureWarning: Passing (type, 1) or '1type' as a synonym of type is deprecated; in a future version of numpy, it will be understood as (type, (1,)) / '(1,)type'.\n",
      "  _np_qint8 = np.dtype([(\"qint8\", np.int8, 1)])\n",
      "C:\\Users\\aakas\\anaconda3\\lib\\site-packages\\tensorboard\\compat\\tensorflow_stub\\dtypes.py:542: FutureWarning: Passing (type, 1) or '1type' as a synonym of type is deprecated; in a future version of numpy, it will be understood as (type, (1,)) / '(1,)type'.\n",
      "  _np_quint8 = np.dtype([(\"quint8\", np.uint8, 1)])\n",
      "C:\\Users\\aakas\\anaconda3\\lib\\site-packages\\tensorboard\\compat\\tensorflow_stub\\dtypes.py:543: FutureWarning: Passing (type, 1) or '1type' as a synonym of type is deprecated; in a future version of numpy, it will be understood as (type, (1,)) / '(1,)type'.\n",
      "  _np_qint16 = np.dtype([(\"qint16\", np.int16, 1)])\n",
      "C:\\Users\\aakas\\anaconda3\\lib\\site-packages\\tensorboard\\compat\\tensorflow_stub\\dtypes.py:544: FutureWarning: Passing (type, 1) or '1type' as a synonym of type is deprecated; in a future version of numpy, it will be understood as (type, (1,)) / '(1,)type'.\n",
      "  _np_quint16 = np.dtype([(\"quint16\", np.uint16, 1)])\n",
      "C:\\Users\\aakas\\anaconda3\\lib\\site-packages\\tensorboard\\compat\\tensorflow_stub\\dtypes.py:545: FutureWarning: Passing (type, 1) or '1type' as a synonym of type is deprecated; in a future version of numpy, it will be understood as (type, (1,)) / '(1,)type'.\n",
      "  _np_qint32 = np.dtype([(\"qint32\", np.int32, 1)])\n",
      "C:\\Users\\aakas\\anaconda3\\lib\\site-packages\\tensorboard\\compat\\tensorflow_stub\\dtypes.py:550: FutureWarning: Passing (type, 1) or '1type' as a synonym of type is deprecated; in a future version of numpy, it will be understood as (type, (1,)) / '(1,)type'.\n",
      "  np_resource = np.dtype([(\"resource\", np.ubyte, 1)])\n"
     ]
    }
   ],
   "source": [
    "import tensorflow as tf"
   ]
  },
  {
   "cell_type": "code",
   "execution_count": 2,
   "metadata": {},
   "outputs": [],
   "source": [
    "from tensorflow.keras.layers import Conv2D, Input, ZeroPadding2D, BatchNormalization, Activation, MaxPooling2D, Flatten, Dense\n",
    "from tensorflow.keras.models import Model, load_model\n",
    "from tensorflow.keras.callbacks import TensorBoard, ModelCheckpoint\n",
    "from sklearn.model_selection import train_test_split\n",
    "from sklearn.metrics import f1_score\n",
    "from sklearn.utils import shuffle\n",
    "import cv2 as cv\n",
    "import imutils\n",
    "import numpy as np\n",
    "from matplotlib import pyplot as plt\n",
    "import time\n",
    "from os import listdir\n",
    "\n",
    "%matplotlib inline"
   ]
  },
  {
   "cell_type": "code",
   "execution_count": 3,
   "metadata": {},
   "outputs": [],
   "source": [
    "def crop_brain_contour(image, plot=False):\n",
    "  \n",
    "  gray = cv.cvtColor(image,cv.COLOR_BGR2GRAY)\n",
    "  gray = cv.GaussianBlur(gray,(5,5),0)\n",
    "    \n",
    "  thresh = cv.threshold(gray,45,255,cv.THRESH_BINARY+cv.THRESH_OTSU)[1]\n",
    "  thresh = cv.erode(thresh, None, iterations=2)\n",
    "  thresh = cv.dilate(thresh,None,iterations=2)\n",
    "\n",
    "  cnts = cv.findContours(thresh.copy(), cv.RETR_EXTERNAL, cv.CHAIN_APPROX_SIMPLE)\n",
    "  cnts = imutils.grab_contours(cnts)\n",
    "  c = max(cnts, key=cv.contourArea)\n",
    "\n",
    "  extLeft = tuple(c[c[:,:,0].argmin()][0])\n",
    "  extRight = tuple(c[c[:,:,0].argmax()][0]) \n",
    "  extTop = tuple(c[c[:,:,1].argmin()][0])\n",
    "  extBot = tuple(c[c[:,:,1].argmax()][0])\n",
    "\n",
    "  new_image = image[extTop[1]:extBot[1],extLeft[0]:extRight[0]]\n",
    "\n",
    "  if plot:\n",
    "    plt.figure()\n",
    "\n",
    "    plt.subplot(1,2,1)\n",
    "    plt.imshow(image)\n",
    "\n",
    "    plt.tick_params(axis='both', which='both', \n",
    "                        top=False, bottom=False, left=False, right=False,\n",
    "                        labelbottom=False, labeltop=False, labelleft=False, labelright=False)\n",
    "    plt.title('Original image')\n",
    "    plt.subplot(1,2,2)\n",
    "    plt.imshow(new_image)\n",
    "\n",
    "    plt.tick_params(axis='both', which='both', \n",
    "                        top=False, bottom=False, left=False, right=False,\n",
    "                        labelbottom=False, labeltop=False, labelleft=False, labelright=False)\n",
    "    plt.title('Cropped Image')\n",
    "    plt.show()\n",
    "\n",
    "  return new_image"
   ]
  },
  {
   "cell_type": "code",
   "execution_count": 4,
   "metadata": {},
   "outputs": [],
   "source": [
    "def load_data(dir_list,image_size):\n",
    "  x=[]\n",
    "  y=[]\n",
    "\n",
    "  image_width,image_height = image_size\n",
    "  for directory in dir_list:\n",
    "    for filename in listdir(directory):\n",
    "\n",
    "      #print(directory)\n",
    "      #print(filename)\n",
    "      image = cv.imread(directory + '/' + filename)\n",
    "      #print(image)\n",
    "      image = crop_brain_contour(image,plot=False)\n",
    "      image = cv.resize(image,dsize=(image_width,image_height),interpolation = cv.INTER_CUBIC)\n",
    "\n",
    "      image=image/255\n",
    "      x.append(image)\n",
    "\n",
    "      if directory[-3:] == 'yes':\n",
    "        y.append([1])\n",
    "      else:\n",
    "        y.append([0]) \n",
    "\n",
    "  X = np.array(x)\n",
    "  y = np.array(y)\n",
    "\n",
    "  X,y = shuffle(X,y)\n",
    "\n",
    "  print(f'Number of examples: {len(X)}')\n",
    "  print(f'X shape:{X.shape}')\n",
    "  print(f'Y shape:{y.shape}')\n",
    "\n",
    "  return X,y"
   ]
  },
  {
   "cell_type": "code",
   "execution_count": 5,
   "metadata": {},
   "outputs": [
    {
     "name": "stdout",
     "output_type": "stream",
     "text": [
      "Number of examples: 2155\n",
      "X shape:(2155, 240, 240, 3)\n",
      "Y shape:(2155, 1)\n"
     ]
    }
   ],
   "source": [
    "path = 'augmented/'\n",
    "\n",
    "# augmented data (yes and no) contains both the original and the new generated examples\n",
    "augmented_yes = path + 'yes' \n",
    "augmented_no = path + 'no'\n",
    "\n",
    "IMG_WIDTH, IMG_HEIGHT = (240, 240)\n",
    "\n",
    "X, y = load_data([augmented_yes, augmented_no], (IMG_WIDTH, IMG_HEIGHT))\n"
   ]
  },
  {
   "cell_type": "code",
   "execution_count": 6,
   "metadata": {},
   "outputs": [],
   "source": [
    "def split_data(X, y, test_size=0.2):\n",
    "  X_train, X_test_val, y_train, y_test_val = train_test_split(X, y, test_size=test_size)\n",
    "  X_test, X_val, y_test, y_val = train_test_split(X_test_val, y_test_val, test_size=0.5)\n",
    "\n",
    "  return X_train,y_train,X_val,y_val,X_test,y_test"
   ]
  },
  {
   "cell_type": "code",
   "execution_count": 7,
   "metadata": {},
   "outputs": [],
   "source": [
    "X_train, y_train, X_val, y_val, X_test, y_test = split_data(X, y, test_size=0.3)"
   ]
  },
  {
   "cell_type": "code",
   "execution_count": 8,
   "metadata": {},
   "outputs": [],
   "source": [
    "def build_model(image_shape):\n",
    "  X_input = Input(image_shape)\n",
    "  #print(X_input)\n",
    "  X = ZeroPadding2D((2,2))(X_input)\n",
    "\n",
    "  X = Conv2D(32, (7,7), strides=(1,1), name='conv0')(X)\n",
    "  X = BatchNormalization(axis=3,name='bn0')(X)\n",
    "  X = Activation('relu')(X)\n",
    "\n",
    "  X = MaxPooling2D((4,4),name='max_pool0')(X)\n",
    "\n",
    "  X = MaxPooling2D((4,4),name='max_pool1')(X)\n",
    "\n",
    "  X = Flatten()(X)\n",
    "\n",
    "  X = Dense(1,activation='sigmoid',name='fc')(X)\n",
    "\n",
    "  model = Model(inputs=X_input,outputs=X,name='TumorDetection')\n",
    "  return model"
   ]
  },
  {
   "cell_type": "code",
   "execution_count": 9,
   "metadata": {},
   "outputs": [],
   "source": [
    "IMG_SHAPE = IMG_WIDTH,IMG_HEIGHT,3"
   ]
  },
  {
   "cell_type": "code",
   "execution_count": 10,
   "metadata": {},
   "outputs": [
    {
     "name": "stdout",
     "output_type": "stream",
     "text": [
      "WARNING:tensorflow:From C:\\Users\\aakas\\anaconda3\\lib\\site-packages\\tensorflow\\python\\ops\\init_ops.py:1251: calling VarianceScaling.__init__ (from tensorflow.python.ops.init_ops) with dtype is deprecated and will be removed in a future version.\n",
      "Instructions for updating:\n",
      "Call initializer instance with the dtype argument instead of passing it to the constructor\n"
     ]
    }
   ],
   "source": [
    "model = build_model(IMG_SHAPE)"
   ]
  },
  {
   "cell_type": "code",
   "execution_count": 11,
   "metadata": {},
   "outputs": [
    {
     "name": "stdout",
     "output_type": "stream",
     "text": [
      "WARNING:tensorflow:From C:\\Users\\aakas\\anaconda3\\lib\\site-packages\\tensorflow\\python\\ops\\nn_impl.py:180: add_dispatch_support.<locals>.wrapper (from tensorflow.python.ops.array_ops) is deprecated and will be removed in a future version.\n",
      "Instructions for updating:\n",
      "Use tf.where in 2.0, which has the same broadcast rule as np.where\n"
     ]
    }
   ],
   "source": [
    "model.compile(optimizer='adam', loss='binary_crossentropy', metrics=['accuracy'])\n"
   ]
  },
  {
   "cell_type": "code",
   "execution_count": 12,
   "metadata": {},
   "outputs": [
    {
     "name": "stdout",
     "output_type": "stream",
     "text": [
      "Train on 1508 samples, validate on 324 samples\n",
      "Epoch 1/25\n",
      "1508/1508 [==============================] - 247s 164ms/sample - loss: 0.8131 - acc: 0.6154 - val_loss: 0.6509 - val_acc: 0.6049\n",
      "Epoch 2/25\n",
      "1508/1508 [==============================] - 218s 145ms/sample - loss: 0.5523 - acc: 0.7294 - val_loss: 0.6006 - val_acc: 0.6574\n",
      "Epoch 3/25\n",
      "1508/1508 [==============================] - 218s 144ms/sample - loss: 0.4925 - acc: 0.7745 - val_loss: 0.5931 - val_acc: 0.7160\n",
      "Epoch 4/25\n",
      "1508/1508 [==============================] - 213s 141ms/sample - loss: 0.4912 - acc: 0.7593 - val_loss: 0.5811 - val_acc: 0.7099\n",
      "Epoch 5/25\n",
      "1508/1508 [==============================] - 210s 139ms/sample - loss: 0.4626 - acc: 0.7725 - val_loss: 0.6696 - val_acc: 0.5988\n",
      "Epoch 6/25\n",
      "1508/1508 [==============================] - 662s 439ms/sample - loss: 0.4440 - acc: 0.7991 - val_loss: 0.6074 - val_acc: 0.7099\n",
      "Epoch 7/25\n",
      "1508/1508 [==============================] - 202s 134ms/sample - loss: 0.4000 - acc: 0.8223 - val_loss: 0.4787 - val_acc: 0.7716\n",
      "Epoch 8/25\n",
      "1508/1508 [==============================] - 214s 142ms/sample - loss: 0.3676 - acc: 0.8389 - val_loss: 0.4727 - val_acc: 0.7901\n",
      "Epoch 9/25\n",
      "1508/1508 [==============================] - 213s 141ms/sample - loss: 0.3539 - acc: 0.8468 - val_loss: 0.6248 - val_acc: 0.7099\n",
      "Epoch 10/25\n",
      "1508/1508 [==============================] - 211s 140ms/sample - loss: 0.3534 - acc: 0.8548 - val_loss: 0.7194 - val_acc: 0.6759\n",
      "Epoch 11/25\n",
      "1508/1508 [==============================] - 247s 163ms/sample - loss: 0.3136 - acc: 0.8714 - val_loss: 0.6892 - val_acc: 0.7006\n",
      "Epoch 12/25\n",
      "1508/1508 [==============================] - 233s 155ms/sample - loss: 0.3122 - acc: 0.8740 - val_loss: 1.1891 - val_acc: 0.5586\n",
      "Epoch 13/25\n",
      "1508/1508 [==============================] - 229s 152ms/sample - loss: 0.3221 - acc: 0.8581 - val_loss: 1.3463 - val_acc: 0.5247\n",
      "Epoch 14/25\n",
      "1508/1508 [==============================] - 229s 152ms/sample - loss: 0.3161 - acc: 0.8607 - val_loss: 0.6020 - val_acc: 0.7531\n",
      "Epoch 15/25\n",
      "1508/1508 [==============================] - 228s 151ms/sample - loss: 0.2866 - acc: 0.8826 - val_loss: 0.5035 - val_acc: 0.7685\n",
      "Epoch 16/25\n",
      "1508/1508 [==============================] - 228s 151ms/sample - loss: 0.2770 - acc: 0.8826 - val_loss: 0.5128 - val_acc: 0.7654\n",
      "Epoch 17/25\n",
      "1508/1508 [==============================] - 250s 166ms/sample - loss: 0.2634 - acc: 0.8952 - val_loss: 0.5415 - val_acc: 0.7778\n",
      "Epoch 18/25\n",
      "1508/1508 [==============================] - 217s 144ms/sample - loss: 0.2360 - acc: 0.9058 - val_loss: 0.5204 - val_acc: 0.7840\n",
      "Epoch 19/25\n",
      "1508/1508 [==============================] - 229s 152ms/sample - loss: 0.2167 - acc: 0.9158 - val_loss: 0.5723 - val_acc: 0.8025\n",
      "Epoch 20/25\n",
      "1508/1508 [==============================] - 211s 140ms/sample - loss: 0.2246 - acc: 0.9105 - val_loss: 0.5116 - val_acc: 0.7870\n",
      "Epoch 21/25\n",
      "1508/1508 [==============================] - 205s 136ms/sample - loss: 0.2055 - acc: 0.9224 - val_loss: 0.7027 - val_acc: 0.7685\n",
      "Epoch 22/25\n",
      "1508/1508 [==============================] - 202s 134ms/sample - loss: 0.2193 - acc: 0.9237 - val_loss: 0.9961 - val_acc: 0.6636\n",
      "Epoch 23/25\n",
      "1508/1508 [==============================] - 209s 138ms/sample - loss: 0.2567 - acc: 0.8966 - val_loss: 0.5413 - val_acc: 0.7963\n",
      "Epoch 24/25\n",
      "1508/1508 [==============================] - 201s 133ms/sample - loss: 0.2117 - acc: 0.9151 - val_loss: 0.5481 - val_acc: 0.8117\n",
      "Epoch 25/25\n",
      "1508/1508 [==============================] - 203s 134ms/sample - loss: 0.1827 - acc: 0.9304 - val_loss: 0.5528 - val_acc: 0.7870\n"
     ]
    },
    {
     "data": {
      "text/plain": [
       "<tensorflow.python.keras.callbacks.History at 0x22dd69b4e48>"
      ]
     },
     "execution_count": 12,
     "metadata": {},
     "output_type": "execute_result"
    }
   ],
   "source": [
    "model.fit(x=X_train,y=y_train,batch_size=32,epochs=25,validation_data=(X_val,y_val))"
   ]
  },
  {
   "cell_type": "code",
   "execution_count": 13,
   "metadata": {},
   "outputs": [
    {
     "name": "stdout",
     "output_type": "stream",
     "text": [
      "Train on 1508 samples, validate on 324 samples\n",
      "Epoch 1/2\n",
      "1508/1508 [==============================] - 204s 135ms/sample - loss: 0.1607 - acc: 0.9430 - val_loss: 0.5275 - val_acc: 0.7963\n",
      "Epoch 2/2\n",
      "1508/1508 [==============================] - 207s 137ms/sample - loss: 0.1469 - acc: 0.9595 - val_loss: 0.6023 - val_acc: 0.7778\n"
     ]
    },
    {
     "data": {
      "text/plain": [
       "<tensorflow.python.keras.callbacks.History at 0x22dd69b4bc8>"
      ]
     },
     "execution_count": 13,
     "metadata": {},
     "output_type": "execute_result"
    }
   ],
   "source": [
    "model.fit(x=X_train,y=y_train,batch_size=32,epochs=2,validation_data=(X_val,y_val))"
   ]
  },
  {
   "cell_type": "code",
   "execution_count": 14,
   "metadata": {},
   "outputs": [
    {
     "name": "stdout",
     "output_type": "stream",
     "text": [
      "Train on 1508 samples, validate on 324 samples\n",
      "Epoch 1/20\n",
      "1508/1508 [==============================] - 206s 137ms/sample - loss: 0.1402 - acc: 0.9602 - val_loss: 0.8358 - val_acc: 0.7006\n",
      "Epoch 2/20\n",
      "1508/1508 [==============================] - 207s 137ms/sample - loss: 0.1675 - acc: 0.9357 - val_loss: 0.6035 - val_acc: 0.7870\n",
      "Epoch 3/20\n",
      "1508/1508 [==============================] - 205s 136ms/sample - loss: 0.1688 - acc: 0.9456 - val_loss: 0.7966 - val_acc: 0.7716\n",
      "Epoch 4/20\n",
      "1508/1508 [==============================] - 203s 135ms/sample - loss: 0.1657 - acc: 0.9324 - val_loss: 0.6527 - val_acc: 0.7654\n",
      "Epoch 5/20\n",
      "1508/1508 [==============================] - 201s 133ms/sample - loss: 0.1625 - acc: 0.9363 - val_loss: 0.6175 - val_acc: 0.7932\n",
      "Epoch 6/20\n",
      "1508/1508 [==============================] - 216s 143ms/sample - loss: 0.1184 - acc: 0.9662 - val_loss: 0.5742 - val_acc: 0.8241\n",
      "Epoch 7/20\n",
      "1508/1508 [==============================] - 241s 160ms/sample - loss: 0.1075 - acc: 0.9775 - val_loss: 0.6508 - val_acc: 0.7778\n",
      "Epoch 8/20\n",
      "1508/1508 [==============================] - 224s 149ms/sample - loss: 0.1264 - acc: 0.9589 - val_loss: 0.6769 - val_acc: 0.7654\n",
      "Epoch 9/20\n",
      "1508/1508 [==============================] - 224s 148ms/sample - loss: 0.1212 - acc: 0.9649 - val_loss: 0.7598 - val_acc: 0.7685\n",
      "Epoch 10/20\n",
      "1508/1508 [==============================] - 223s 148ms/sample - loss: 0.1248 - acc: 0.9595 - val_loss: 0.6227 - val_acc: 0.7654\n",
      "Epoch 11/20\n",
      "1508/1508 [==============================] - 203s 135ms/sample - loss: 0.0928 - acc: 0.9801 - val_loss: 0.6069 - val_acc: 0.8025\n",
      "Epoch 12/20\n",
      "1508/1508 [==============================] - 221s 147ms/sample - loss: 0.1123 - acc: 0.9629 - val_loss: 0.7203 - val_acc: 0.7778\n",
      "Epoch 13/20\n",
      "1508/1508 [==============================] - 214s 142ms/sample - loss: 0.1176 - acc: 0.9629 - val_loss: 0.5986 - val_acc: 0.7994\n",
      "Epoch 14/20\n",
      "1508/1508 [==============================] - 234s 155ms/sample - loss: 0.0813 - acc: 0.9828 - val_loss: 0.5925 - val_acc: 0.7994\n",
      "Epoch 15/20\n",
      "1508/1508 [==============================] - 239s 158ms/sample - loss: 0.0775 - acc: 0.9874 - val_loss: 0.6198 - val_acc: 0.7778\n",
      "Epoch 16/20\n",
      "1508/1508 [==============================] - 249s 165ms/sample - loss: 0.0860 - acc: 0.9801 - val_loss: 0.5816 - val_acc: 0.8210\n",
      "Epoch 17/20\n",
      "1508/1508 [==============================] - 231s 153ms/sample - loss: 0.0723 - acc: 0.9828 - val_loss: 0.5902 - val_acc: 0.8210\n",
      "Epoch 18/20\n",
      "1508/1508 [==============================] - 219s 145ms/sample - loss: 0.0664 - acc: 0.9887 - val_loss: 0.6175 - val_acc: 0.8148\n",
      "Epoch 19/20\n",
      "1508/1508 [==============================] - 211s 140ms/sample - loss: 0.0664 - acc: 0.9894 - val_loss: 0.6631 - val_acc: 0.7840\n",
      "Epoch 20/20\n",
      "1508/1508 [==============================] - 209s 139ms/sample - loss: 0.0772 - acc: 0.9841 - val_loss: 0.6679 - val_acc: 0.8086\n"
     ]
    },
    {
     "data": {
      "text/plain": [
       "<tensorflow.python.keras.callbacks.History at 0x22dd6b35c88>"
      ]
     },
     "execution_count": 14,
     "metadata": {},
     "output_type": "execute_result"
    }
   ],
   "source": [
    "model.fit(x=X_train,y=y_train,batch_size=32,epochs=20,validation_data=(X_val,y_val))"
   ]
  },
  {
   "cell_type": "code",
   "execution_count": 15,
   "metadata": {},
   "outputs": [],
   "source": [
    "history = model.history.history\n"
   ]
  },
  {
   "cell_type": "code",
   "execution_count": 16,
   "metadata": {},
   "outputs": [
    {
     "name": "stdout",
     "output_type": "stream",
     "text": [
      "loss\n",
      "acc\n",
      "val_loss\n",
      "val_acc\n"
     ]
    }
   ],
   "source": [
    "for key in history.keys():\n",
    "  print(key)"
   ]
  },
  {
   "cell_type": "code",
   "execution_count": 17,
   "metadata": {},
   "outputs": [],
   "source": [
    "def plot_metrics(history):\n",
    "    \n",
    "    train_loss = history['loss']\n",
    "    val_loss = history['val_loss']\n",
    "    train_acc = history['acc']\n",
    "    val_acc = history['val_acc']\n",
    "    \n",
    "    trainAcc=0\n",
    "    \n",
    "    for ele in range(0, len(train_acc)): \n",
    "        trainAcc = trainAcc + train_acc[ele]\n",
    "    \n",
    "    print('Training Accuracy - ',trainAcc/len(train_acc))\n",
    "    \n",
    "    valAcc=0\n",
    "    \n",
    "    for ele in range(0, len(val_acc)): \n",
    "        valAcc = valAcc + val_acc[ele]\n",
    "    \n",
    "    print('Validation Accuracy - ',valAcc/len(val_acc))\n",
    "    \n",
    "    # Loss\n",
    "    plt.figure()\n",
    "    plt.plot(train_loss, label='Training Loss')\n",
    "    plt.plot(val_loss, label='Validation Loss')\n",
    "    plt.title('Loss')\n",
    "    plt.legend()\n",
    "    plt.show()\n",
    "    \n",
    "    # Accuracy\n",
    "    plt.figure()\n",
    "    plt.plot(train_acc, label='Training Accuracy')\n",
    "    plt.plot(val_acc, label='Validation Accuracy')\n",
    "    plt.title('Accuracy')\n",
    "    plt.legend()\n",
    "    plt.show()"
   ]
  },
  {
   "cell_type": "code",
   "execution_count": 18,
   "metadata": {},
   "outputs": [
    {
     "name": "stdout",
     "output_type": "stream",
     "text": [
      "Training Accuracy -  0.9669098198413849\n",
      "Validation Accuracy -  0.7862654328346252\n"
     ]
    },
    {
     "data": {
      "image/png": "[encoded data removed]",
      "text/plain": [
       "<Figure size 432x288 with 1 Axes>"
      ]
     },
     "metadata": {
      "needs_background": "light"
     },
     "output_type": "display_data"
    },
    {
     "data": {
      "image/png": "[encoded data removed]",
      "text/plain": [
       "<Figure size 432x288 with 1 Axes>"
      ]
     },
     "metadata": {
      "needs_background": "light"
     },
     "output_type": "display_data"
    }
   ],
   "source": [
    "plot_metrics(history)"
   ]
  },
  {
   "cell_type": "code",
   "execution_count": 28,
   "metadata": {},
   "outputs": [],
   "source": [
    "import numpy as np\n",
    "from keras.preprocessing import image\n",
    "test_image = image.load_img('prediction/yes_or_no_2.jpg', target_size = (240, 240))\n",
    "test_image = image.img_to_array(test_image)\n",
    "test_image = np.expand_dims(test_image, axis = 0)\n",
    "result = model.predict(test_image)\n",
    "#training_set.class_indices\n",
    "if result[0][0] == 1:\n",
    "  prediction = 'tumor detected'\n",
    "else:\n",
    "  prediction = 'no tumor detected'"
   ]
  },
  {
   "cell_type": "code",
   "execution_count": 29,
   "metadata": {},
   "outputs": [
    {
     "name": "stdout",
     "output_type": "stream",
     "text": [
      "no tumor detected\n"
     ]
    }
   ],
   "source": [
    "print(prediction)"
   ]
  },
  {
   "cell_type": "code",
   "execution_count": null,
   "metadata": {},
   "outputs": [],
   "source": []
  }
 ],
 "metadata": {
  "kernelspec": {
   "display_name": "Python 3",
   "language": "python",
   "name": "python3"
  },
  "language_info": {
   "codemirror_mode": {
    "name": "ipython",
    "version": 3
   },
   "file_extension": ".py",
   "mimetype": "text/x-python",
   "name": "python",
   "nbconvert_exporter": "python",
   "pygments_lexer": "ipython3",
   "version": "3.7.6"
  }
 },
 "nbformat": 4,
 "nbformat_minor": 4
}
